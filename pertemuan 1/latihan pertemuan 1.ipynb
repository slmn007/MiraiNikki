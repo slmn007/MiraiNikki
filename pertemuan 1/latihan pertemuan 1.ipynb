{
 "metadata": {
  "language_info": {
   "codemirror_mode": {
    "name": "ipython",
    "version": 3
   },
   "file_extension": ".py",
   "mimetype": "text/x-python",
   "name": "python",
   "nbconvert_exporter": "python",
   "pygments_lexer": "ipython3",
   "version": "3.8.2-final"
  },
  "orig_nbformat": 2,
  "kernelspec": {
   "name": "Python 3.8.2 32-bit",
   "display_name": "Python 3.8.2 32-bit",
   "metadata": {
    "interpreter": {
     "hash": "84fb2fe92b14b18c056bda70d602a3106b09df8b368d4f2bd86b226979d0ed77"
    }
   }
  }
 },
 "nbformat": 4,
 "nbformat_minor": 2,
 "cells": [
  {
   "source": [
    "#LATIHAN 1\n",
    "\n",
    "1. buat program. \n",
    "   deklarasi 5 variabel\n",
    "\tlakukan perhitungan rata-rata 5 nilai tsb\n",
    "\ttampilkan hasilnya"
   ],
   "cell_type": "markdown",
   "metadata": {}
  },
  {
   "cell_type": "code",
   "execution_count": 1,
   "metadata": {
    "tags": []
   },
   "outputs": [
    {
     "output_type": "stream",
     "name": "stdout",
     "text": "\t jumlah data = 15 \n \t rata-ratanya = 3.0\n"
    }
   ],
   "source": [
    "a, b, c, d, e = 1, 2, 3, 4, 5\n",
    "juml, avg = a+b+c+d+e, (a+b+c+d+e)/5\n",
    "\n",
    "print('\\t', 'jumlah data =', juml, '\\n', '\\t', 'rata-ratanya =', avg)\n"
   ]
  },
  {
   "source": [],
   "cell_type": "markdown",
   "metadata": {}
  },
  {
   "source": [
    "#LATIHAN 2\n",
    "\n",
    "2. buat program menghitung luas dan keliling bangun datar \n",
    "  dengan menerima inputan dari user"
   ],
   "cell_type": "markdown",
   "metadata": {}
  },
  {
   "cell_type": "code",
   "execution_count": 2,
   "metadata": {
    "tags": []
   },
   "outputs": [
    {
     "output_type": "stream",
     "name": "stdout",
     "text": "\t keliling = 12 \n \t luas = 5\n"
    }
   ],
   "source": [
    "p = int(input('masukkan panjangnya ='))\n",
    "l = int(input('masukkan lebarnya ='))\n",
    "\n",
    "keliling, luas = 2*(p+l), p*l\n",
    "\n",
    "print('\\t', 'keliling =', keliling, '\\n', '\\t', 'luas =', luas)"
   ]
  },
  {
   "source": [],
   "cell_type": "markdown",
   "metadata": {}
  },
  {
   "source": [
    "#LATIHAN 3\n",
    "\n",
    "3. buat program untuk menghitung index massa tubuh / BMI (Body mass index)"
   ],
   "cell_type": "markdown",
   "metadata": {}
  },
  {
   "cell_type": "code",
   "execution_count": 3,
   "metadata": {
    "tags": []
   },
   "outputs": [
    {
     "output_type": "stream",
     "name": "stdout",
     "text": "BMI anda = 17.65 \n anda termasuk golongan:\nBerat badan kurang\n"
    }
   ],
   "source": [
    "kg = float(input('masukkan berat badan anda = (kg)'))\n",
    "tinggi = float(input('masukkan tinggi badan anda = (cm)'))\n",
    "\n",
    "bmi = round(kg/ (tinggi/100)**2, 2)\n",
    "\n",
    "print('BMI anda =',bmi, '\\n', 'anda termasuk golongan:')\n",
    "\n",
    "\n",
    "if bmi < 18.5:\n",
    "    print('Berat badan kurang')\n",
    "elif 18.5 < bmi <22.9:\n",
    "    print('Berat badan normal')\n",
    "elif 23 < bmi <29.9:\n",
    "    print('Berat badan berlebih (kecenderungan obesitas)')\n",
    "else:\n",
    "    print('obesitas')"
   ]
  },
  {
   "source": [],
   "cell_type": "markdown",
   "metadata": {}
  },
  {
   "source": [
    "#LATIHAN 4\n",
    "\n",
    "4. buat program untuk menentukan nilai maksimal dan minimal dari sejumlah nilai masukan N"
   ],
   "cell_type": "markdown",
   "metadata": {}
  },
  {
   "cell_type": "code",
   "execution_count": 4,
   "metadata": {
    "tags": []
   },
   "outputs": [
    {
     "output_type": "stream",
     "name": "stdout",
     "text": "data =  [6.0, 3.0, 0.0] \n max = 6.0 \t min = 0.0\n"
    }
   ],
   "source": [
    "n = []\n",
    "num = int(input('masukkan batasan anda ingin menginputkan nilai: '))\n",
    "\n",
    "for i in range(num):\n",
    "    inp = float(input('masukkan angka: '))\n",
    "    n.append(inp)\n",
    "\n",
    "a = max(n)\n",
    "b = min(n)\n",
    "\n",
    "print('data = ', n, '\\n','max =', a,'\\t', 'min =', b)"
   ]
  },
  {
   "source": [],
   "cell_type": "markdown",
   "metadata": {}
  },
  {
   "source": [
    "#LATIHAN 5\n",
    "\n",
    "5. buat program untuk menentukan validasi username dan password, dimana akan di ulang maksimal 3 kali, jika benar akan muncul komentar ” anda berhasil masuk” tapi jika tidak muncul komentar ” maaf user name dan password anda salah”"
   ],
   "cell_type": "markdown",
   "metadata": {}
  },
  {
   "source": [
    "print('''----\n",
    "username = SLMN007,     aku,    dia \n",
    "            ||           ||      ||\n",
    "password = sulaiman007, saya,   mereka\n",
    "diatas adalah password dan usernamenya jika menginputkan selain kata tersebut maka akan terjadi eror\n",
    "----''')\n",
    "\n",
    "userandpass = {'SLMN007': 'sulaiman007', 'aku': 'saya', 'dia': 'mereka'}\n",
    "chance = 3\n",
    "\n",
    "while chance != 0:\n",
    "    user = input('masukkan username: ')\n",
    "    pss = input('masukkan password: ')\n",
    "\n",
    "    for cek in userandpass:\n",
    "        if user == cek and pss == userandpass[cek]:\n",
    "            print('anda berhasil masuk')\n",
    "            chance = 0\n",
    "            break\n",
    "    else:\n",
    "        print('maaf user name dan password anda salah')\n",
    "        chance -= 1"
   ],
   "cell_type": "code",
   "metadata": {
    "tags": []
   },
   "execution_count": 3,
   "outputs": [
    {
     "output_type": "stream",
     "name": "stdout",
     "text": "----\nusername = SLMN007,     aku,    dia \n            ||           ||      ||\npassword = sulaiman007, saya,   mereka\ndiatas adalah password dan usernamenya jika menginputkan selain kata tersebut maka akan terjadi eror\n----\nanda berhasil masuk\n"
    }
   ]
  },
  {
   "cell_type": "code",
   "execution_count": null,
   "metadata": {},
   "outputs": [],
   "source": []
  }
 ]
}